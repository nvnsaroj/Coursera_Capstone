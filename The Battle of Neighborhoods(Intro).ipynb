{
 "cells": [
  {
   "cell_type": "markdown",
   "metadata": {
    "collapsed": true
   },
   "source": [
    "# Capstone Project - The Battle of Neighborhoods (Week 1)"
   ]
  },
  {
   "cell_type": "markdown",
   "metadata": {},
   "source": [
    "### 1. A description of the problem and a discussion of the background. (15 marks)"
   ]
  },
  {
   "cell_type": "markdown",
   "metadata": {},
   "source": [
    "### Introduction\n",
    "When ever someone wants to open a new business, they need to do some research. Without having a proper information about new business, they will end up in a mess.  \n",
    "Our client want to invest in a his venture: Sushi Bar. It will be located in Santiago de Chile therefore we should investigate where is the best location.  \n",
    "\n",
    "#### Business Problem\n",
    "To open a Sushi Bar, you must use the Foursquare information on the communes or localities of Santiago (Chile). Santiago has 52 different localities (communes) and our challenge is find the best one.  \n",
    "For this we define our target audience:  \n",
    "1. High schools  \n",
    "2. Universities  \n",
    "3. Offices The above serves to ensure that we have enough customers and that we are not so close to other sushi places"
   ]
  },
  {
   "cell_type": "markdown",
   "metadata": {},
   "source": [
    "### 2. A description of the data and how it will be used to solve the problem. (15 marks)"
   ]
  },
  {
   "cell_type": "markdown",
   "metadata": {},
   "source": [
    "### Data\n",
    "To find the best location for our sushi place, we will use the following sources of information:  \n",
    "\n",
    "(we will use Beautifulsoup to extract data from these wikipedia pages)\n",
    "From Wikipedia (tables)  \n",
    "Locations https://es.wikipedia.org/wiki/Anexo:Comunas_de_Chile_por_poblaci%C3%B3n  \n",
    "Post Codes https://es.wikipedia.org/wiki/Anexo:C%C3%B3digos_postales_de_Chile  \n",
    "   \n",
    "From Files Geo Location (latitude, longitude for each locality) https://raw.githubusercontent.com/ssikam/My-Capstone-Project/master/chile%20geo%20public.csv  \n",
    "   \n",
    "From Foursquare  Venues Categories https://developer.foursquare.com/docs/resources/categories  \n",
    " \n",
    "Sushi - 4bf58dd8d48988d1d2941735  \n",
    "Highschool - 4bf58dd8d48988d13d941735  \n",
    "University - 4bf58dd8d48988d1ae941735  \n",
    "Office - 4d4b7105d754a06375d81259 "
   ]
  },
  {
   "cell_type": "code",
   "execution_count": null,
   "metadata": {},
   "outputs": [],
   "source": []
  }
 ],
 "metadata": {
  "kernelspec": {
   "display_name": "Python 3.6",
   "language": "python",
   "name": "python3"
  },
  "language_info": {
   "codemirror_mode": {
    "name": "ipython",
    "version": 3
   },
   "file_extension": ".py",
   "mimetype": "text/x-python",
   "name": "python",
   "nbconvert_exporter": "python",
   "pygments_lexer": "ipython3",
   "version": "3.6.8"
  }
 },
 "nbformat": 4,
 "nbformat_minor": 1
}
